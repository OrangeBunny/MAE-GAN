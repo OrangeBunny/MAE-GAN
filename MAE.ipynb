{
  "nbformat": 4,
  "nbformat_minor": 0,
  "metadata": {
    "colab": {
      "name": "MAE.ipynb",
      "provenance": [],
      "collapsed_sections": [],
      "authorship_tag": "ABX9TyMi6EKvVUPLmeRFGDG8v+eB",
      "include_colab_link": true
    },
    "kernelspec": {
      "name": "python3",
      "display_name": "Python 3"
    },
    "language_info": {
      "name": "python"
    },
    "accelerator": "GPU"
  },
  "cells": [
    {
      "cell_type": "markdown",
      "metadata": {
        "id": "view-in-github",
        "colab_type": "text"
      },
      "source": [
        "<a href=\"https://colab.research.google.com/github/OrangeBunny/MAE-GAN/blob/main/MAE.ipynb\" target=\"_parent\"><img src=\"https://colab.research.google.com/assets/colab-badge.svg\" alt=\"Open In Colab\"/></a>"
      ]
    },
    {
      "cell_type": "code",
      "metadata": {
        "id": "960CywFSMsp2",
        "colab": {
          "base_uri": "https://localhost:8080/",
          "height": 35
        },
        "outputId": "59d8908b-f1e0-4a59-e3fa-eb5896aa6015"
      },
      "source": [
        "\"\"\"\n",
        "Title: Masked image modeling with Autoencoders\n",
        "# Author: Cheng XU (https://github.com/OrangeBunny)\n",
        "# Reference: https://github.com/keras-team/keras-io/blob/master/examples/vision/masked_image_modeling.py\n",
        "# Date: 2021.12\n",
        "Description: Implementing Masked Autoencoders for self-supervised pretraining.\n",
        "\"\"\"\n",
        "\"\"\"\n",
        "## Introduction\n",
        "In deep learning, models with growing **capacity** and **capability** can easily overfit\n",
        "on large datasets (ImageNet-1K). In the field of natural language processing, the\n",
        "appetite for data has been **successfully addressed** by self-supervised pretraining.\n",
        "In the academic paper\n",
        "[Masked Autoencoders Are Scalable Vision Learners](https://arxiv.org/abs/2111.06377)\n",
        "by He et. al. the authors propose a simple yet effective method to pretrain large\n",
        "vision models (here [ViT Huge](https://arxiv.org/abs/2010.11929)). Inspired from\n",
        "the pretraining algorithm of BERT ([Devlin et al.](https://arxiv.org/abs/1810.04805)),\n",
        "they mask patches of an image and, through an autoencoder predict the masked patches.\n",
        "In the spirit of \"masked language modeling\", this pretraining task could be referred\n",
        "to as \"masked image modeling\".\n",
        "In this example, we implement\n",
        "[Masked Autoencoders Are Scalable Vision Learners](https://arxiv.org/abs/2111.06377)\n",
        "with the [CIFAR-10](https://www.cs.toronto.edu/~kriz/cifar.html) dataset. After\n",
        "pretraining a scaled down version of ViT, we also implement the linear evaluation\n",
        "pipeline on CIFAR-10.\n",
        "This implementation covers (MAE refers to Masked Autoencoder):\n",
        "- The masking algorithm\n",
        "- MAE encoder\n",
        "- MAE decoder\n",
        "- Evaluation with linear probing\n",
        "As a reference, we reuse some of the code presented in\n",
        "[this example](https://keras.io/examples/vision/image_classification_with_vision_transformer/).\n",
        "\"\"\"\n",
        "\n",
        "\"\"\"\n",
        "## Imports\n",
        "This example requires TensorFlow Addons, which can be installed using the following\n",
        "command:\n",
        "```shell\n",
        "pip install -U tensorflow-addons\n",
        "```\n",
        "\"\"\""
      ],
      "execution_count": 2,
      "outputs": [
        {
          "output_type": "execute_result",
          "data": {
            "application/vnd.google.colaboratory.intrinsic+json": {
              "type": "string"
            },
            "text/plain": [
              "'\\n## Imports\\nThis example requires TensorFlow Addons, which can be installed using the following\\ncommand:\\n```shell\\npip install -U tensorflow-addons\\n```\\n'"
            ]
          },
          "metadata": {},
          "execution_count": 2
        }
      ]
    },
    {
      "cell_type": "code",
      "metadata": {
        "colab": {
          "base_uri": "https://localhost:8080/"
        },
        "id": "PjvjtaRsViAp",
        "outputId": "c99a6f34-285e-4d13-89db-b01b780a30e7"
      },
      "source": [
        "pip install -U tensorflow-addons"
      ],
      "execution_count": 1,
      "outputs": [
        {
          "output_type": "stream",
          "name": "stdout",
          "text": [
            "Collecting tensorflow-addons\n",
            "  Downloading tensorflow_addons-0.15.0-cp37-cp37m-manylinux_2_12_x86_64.manylinux2010_x86_64.whl (1.1 MB)\n",
            "\u001b[?25l\r\u001b[K     |▎                               | 10 kB 17.1 MB/s eta 0:00:01\r\u001b[K     |▋                               | 20 kB 22.5 MB/s eta 0:00:01\r\u001b[K     |▉                               | 30 kB 12.6 MB/s eta 0:00:01\r\u001b[K     |█▏                              | 40 kB 9.6 MB/s eta 0:00:01\r\u001b[K     |█▌                              | 51 kB 5.5 MB/s eta 0:00:01\r\u001b[K     |█▊                              | 61 kB 6.0 MB/s eta 0:00:01\r\u001b[K     |██                              | 71 kB 5.8 MB/s eta 0:00:01\r\u001b[K     |██▍                             | 81 kB 6.5 MB/s eta 0:00:01\r\u001b[K     |██▋                             | 92 kB 5.0 MB/s eta 0:00:01\r\u001b[K     |███                             | 102 kB 5.3 MB/s eta 0:00:01\r\u001b[K     |███▎                            | 112 kB 5.3 MB/s eta 0:00:01\r\u001b[K     |███▌                            | 122 kB 5.3 MB/s eta 0:00:01\r\u001b[K     |███▉                            | 133 kB 5.3 MB/s eta 0:00:01\r\u001b[K     |████▏                           | 143 kB 5.3 MB/s eta 0:00:01\r\u001b[K     |████▍                           | 153 kB 5.3 MB/s eta 0:00:01\r\u001b[K     |████▊                           | 163 kB 5.3 MB/s eta 0:00:01\r\u001b[K     |█████                           | 174 kB 5.3 MB/s eta 0:00:01\r\u001b[K     |█████▎                          | 184 kB 5.3 MB/s eta 0:00:01\r\u001b[K     |█████▋                          | 194 kB 5.3 MB/s eta 0:00:01\r\u001b[K     |█████▉                          | 204 kB 5.3 MB/s eta 0:00:01\r\u001b[K     |██████▏                         | 215 kB 5.3 MB/s eta 0:00:01\r\u001b[K     |██████▌                         | 225 kB 5.3 MB/s eta 0:00:01\r\u001b[K     |██████▊                         | 235 kB 5.3 MB/s eta 0:00:01\r\u001b[K     |███████                         | 245 kB 5.3 MB/s eta 0:00:01\r\u001b[K     |███████▍                        | 256 kB 5.3 MB/s eta 0:00:01\r\u001b[K     |███████▋                        | 266 kB 5.3 MB/s eta 0:00:01\r\u001b[K     |████████                        | 276 kB 5.3 MB/s eta 0:00:01\r\u001b[K     |████████▎                       | 286 kB 5.3 MB/s eta 0:00:01\r\u001b[K     |████████▌                       | 296 kB 5.3 MB/s eta 0:00:01\r\u001b[K     |████████▉                       | 307 kB 5.3 MB/s eta 0:00:01\r\u001b[K     |█████████                       | 317 kB 5.3 MB/s eta 0:00:01\r\u001b[K     |█████████▍                      | 327 kB 5.3 MB/s eta 0:00:01\r\u001b[K     |█████████▊                      | 337 kB 5.3 MB/s eta 0:00:01\r\u001b[K     |██████████                      | 348 kB 5.3 MB/s eta 0:00:01\r\u001b[K     |██████████▎                     | 358 kB 5.3 MB/s eta 0:00:01\r\u001b[K     |██████████▋                     | 368 kB 5.3 MB/s eta 0:00:01\r\u001b[K     |██████████▉                     | 378 kB 5.3 MB/s eta 0:00:01\r\u001b[K     |███████████▏                    | 389 kB 5.3 MB/s eta 0:00:01\r\u001b[K     |███████████▌                    | 399 kB 5.3 MB/s eta 0:00:01\r\u001b[K     |███████████▊                    | 409 kB 5.3 MB/s eta 0:00:01\r\u001b[K     |████████████                    | 419 kB 5.3 MB/s eta 0:00:01\r\u001b[K     |████████████▍                   | 430 kB 5.3 MB/s eta 0:00:01\r\u001b[K     |████████████▋                   | 440 kB 5.3 MB/s eta 0:00:01\r\u001b[K     |█████████████                   | 450 kB 5.3 MB/s eta 0:00:01\r\u001b[K     |█████████████▎                  | 460 kB 5.3 MB/s eta 0:00:01\r\u001b[K     |█████████████▌                  | 471 kB 5.3 MB/s eta 0:00:01\r\u001b[K     |█████████████▉                  | 481 kB 5.3 MB/s eta 0:00:01\r\u001b[K     |██████████████                  | 491 kB 5.3 MB/s eta 0:00:01\r\u001b[K     |██████████████▍                 | 501 kB 5.3 MB/s eta 0:00:01\r\u001b[K     |██████████████▊                 | 512 kB 5.3 MB/s eta 0:00:01\r\u001b[K     |███████████████                 | 522 kB 5.3 MB/s eta 0:00:01\r\u001b[K     |███████████████▎                | 532 kB 5.3 MB/s eta 0:00:01\r\u001b[K     |███████████████▋                | 542 kB 5.3 MB/s eta 0:00:01\r\u001b[K     |███████████████▉                | 552 kB 5.3 MB/s eta 0:00:01\r\u001b[K     |████████████████▏               | 563 kB 5.3 MB/s eta 0:00:01\r\u001b[K     |████████████████▌               | 573 kB 5.3 MB/s eta 0:00:01\r\u001b[K     |████████████████▊               | 583 kB 5.3 MB/s eta 0:00:01\r\u001b[K     |█████████████████               | 593 kB 5.3 MB/s eta 0:00:01\r\u001b[K     |█████████████████▍              | 604 kB 5.3 MB/s eta 0:00:01\r\u001b[K     |█████████████████▋              | 614 kB 5.3 MB/s eta 0:00:01\r\u001b[K     |██████████████████              | 624 kB 5.3 MB/s eta 0:00:01\r\u001b[K     |██████████████████▏             | 634 kB 5.3 MB/s eta 0:00:01\r\u001b[K     |██████████████████▌             | 645 kB 5.3 MB/s eta 0:00:01\r\u001b[K     |██████████████████▉             | 655 kB 5.3 MB/s eta 0:00:01\r\u001b[K     |███████████████████             | 665 kB 5.3 MB/s eta 0:00:01\r\u001b[K     |███████████████████▍            | 675 kB 5.3 MB/s eta 0:00:01\r\u001b[K     |███████████████████▊            | 686 kB 5.3 MB/s eta 0:00:01\r\u001b[K     |████████████████████            | 696 kB 5.3 MB/s eta 0:00:01\r\u001b[K     |████████████████████▎           | 706 kB 5.3 MB/s eta 0:00:01\r\u001b[K     |████████████████████▋           | 716 kB 5.3 MB/s eta 0:00:01\r\u001b[K     |████████████████████▉           | 727 kB 5.3 MB/s eta 0:00:01\r\u001b[K     |█████████████████████▏          | 737 kB 5.3 MB/s eta 0:00:01\r\u001b[K     |█████████████████████▌          | 747 kB 5.3 MB/s eta 0:00:01\r\u001b[K     |█████████████████████▊          | 757 kB 5.3 MB/s eta 0:00:01\r\u001b[K     |██████████████████████          | 768 kB 5.3 MB/s eta 0:00:01\r\u001b[K     |██████████████████████▎         | 778 kB 5.3 MB/s eta 0:00:01\r\u001b[K     |██████████████████████▋         | 788 kB 5.3 MB/s eta 0:00:01\r\u001b[K     |███████████████████████         | 798 kB 5.3 MB/s eta 0:00:01\r\u001b[K     |███████████████████████▏        | 808 kB 5.3 MB/s eta 0:00:01\r\u001b[K     |███████████████████████▌        | 819 kB 5.3 MB/s eta 0:00:01\r\u001b[K     |███████████████████████▉        | 829 kB 5.3 MB/s eta 0:00:01\r\u001b[K     |████████████████████████        | 839 kB 5.3 MB/s eta 0:00:01\r\u001b[K     |████████████████████████▍       | 849 kB 5.3 MB/s eta 0:00:01\r\u001b[K     |████████████████████████▊       | 860 kB 5.3 MB/s eta 0:00:01\r\u001b[K     |█████████████████████████       | 870 kB 5.3 MB/s eta 0:00:01\r\u001b[K     |█████████████████████████▎      | 880 kB 5.3 MB/s eta 0:00:01\r\u001b[K     |█████████████████████████▋      | 890 kB 5.3 MB/s eta 0:00:01\r\u001b[K     |█████████████████████████▉      | 901 kB 5.3 MB/s eta 0:00:01\r\u001b[K     |██████████████████████████▏     | 911 kB 5.3 MB/s eta 0:00:01\r\u001b[K     |██████████████████████████▌     | 921 kB 5.3 MB/s eta 0:00:01\r\u001b[K     |██████████████████████████▊     | 931 kB 5.3 MB/s eta 0:00:01\r\u001b[K     |███████████████████████████     | 942 kB 5.3 MB/s eta 0:00:01\r\u001b[K     |███████████████████████████▎    | 952 kB 5.3 MB/s eta 0:00:01\r\u001b[K     |███████████████████████████▋    | 962 kB 5.3 MB/s eta 0:00:01\r\u001b[K     |████████████████████████████    | 972 kB 5.3 MB/s eta 0:00:01\r\u001b[K     |████████████████████████████▏   | 983 kB 5.3 MB/s eta 0:00:01\r\u001b[K     |████████████████████████████▌   | 993 kB 5.3 MB/s eta 0:00:01\r\u001b[K     |████████████████████████████▉   | 1.0 MB 5.3 MB/s eta 0:00:01\r\u001b[K     |█████████████████████████████   | 1.0 MB 5.3 MB/s eta 0:00:01\r\u001b[K     |█████████████████████████████▍  | 1.0 MB 5.3 MB/s eta 0:00:01\r\u001b[K     |█████████████████████████████▊  | 1.0 MB 5.3 MB/s eta 0:00:01\r\u001b[K     |██████████████████████████████  | 1.0 MB 5.3 MB/s eta 0:00:01\r\u001b[K     |██████████████████████████████▎ | 1.1 MB 5.3 MB/s eta 0:00:01\r\u001b[K     |██████████████████████████████▋ | 1.1 MB 5.3 MB/s eta 0:00:01\r\u001b[K     |██████████████████████████████▉ | 1.1 MB 5.3 MB/s eta 0:00:01\r\u001b[K     |███████████████████████████████▏| 1.1 MB 5.3 MB/s eta 0:00:01\r\u001b[K     |███████████████████████████████▍| 1.1 MB 5.3 MB/s eta 0:00:01\r\u001b[K     |███████████████████████████████▊| 1.1 MB 5.3 MB/s eta 0:00:01\r\u001b[K     |████████████████████████████████| 1.1 MB 5.3 MB/s \n",
            "\u001b[?25hRequirement already satisfied: typeguard>=2.7 in /usr/local/lib/python3.7/dist-packages (from tensorflow-addons) (2.7.1)\n",
            "Installing collected packages: tensorflow-addons\n",
            "Successfully installed tensorflow-addons-0.15.0\n"
          ]
        }
      ]
    },
    {
      "cell_type": "code",
      "metadata": {
        "colab": {
          "base_uri": "https://localhost:8080/"
        },
        "id": "MwnUDzZwM28D",
        "outputId": "3eea1cf8-de94-4e8d-a130-c8a9b1a1d876"
      },
      "source": [
        "from tensorflow.keras import layers\n",
        "import tensorflow_addons as tfa\n",
        "from tensorflow import keras\n",
        "import tensorflow as tf\n",
        "\n",
        "import matplotlib.pyplot as plt\n",
        "import numpy as np\n",
        "import random\n",
        "\n",
        "# Setting seeds for reproducibility.\n",
        "SEED = 42\n",
        "keras.utils.set_random_seed(SEED)\n",
        "\n",
        "tf.test.is_gpu_available()"
      ],
      "execution_count": 2,
      "outputs": [
        {
          "output_type": "stream",
          "name": "stdout",
          "text": [
            "WARNING:tensorflow:From <ipython-input-2-fb9133549a93>:14: is_gpu_available (from tensorflow.python.framework.test_util) is deprecated and will be removed in a future version.\n",
            "Instructions for updating:\n",
            "Use `tf.config.list_physical_devices('GPU')` instead.\n"
          ]
        },
        {
          "output_type": "execute_result",
          "data": {
            "text/plain": [
              "True"
            ]
          },
          "metadata": {},
          "execution_count": 2
        }
      ]
    },
    {
      "cell_type": "code",
      "metadata": {
        "id": "sqy1ti270Q4v",
        "colab": {
          "base_uri": "https://localhost:8080/"
        },
        "outputId": "14db0ab7-13c3-4fe9-b256-ccb4e60b02bc"
      },
      "source": [
        "!/opt/bin/nvidia-smi"
      ],
      "execution_count": 3,
      "outputs": [
        {
          "output_type": "stream",
          "name": "stdout",
          "text": [
            "Fri Dec  3 08:42:51 2021       \n",
            "+-----------------------------------------------------------------------------+\n",
            "| NVIDIA-SMI 460.32.03    Driver Version: 460.32.03    CUDA Version: 11.2     |\n",
            "|-------------------------------+----------------------+----------------------+\n",
            "| GPU  Name        Persistence-M| Bus-Id        Disp.A | Volatile Uncorr. ECC |\n",
            "| Fan  Temp  Perf  Pwr:Usage/Cap|         Memory-Usage | GPU-Util  Compute M. |\n",
            "|                               |                      |               MIG M. |\n",
            "|===============================+======================+======================|\n",
            "|   0  Tesla K80           Off  | 00000000:00:04.0 Off |                    0 |\n",
            "| N/A   43C    P0    58W / 149W |    144MiB / 11441MiB |      0%      Default |\n",
            "|                               |                      |                  N/A |\n",
            "+-------------------------------+----------------------+----------------------+\n",
            "                                                                               \n",
            "+-----------------------------------------------------------------------------+\n",
            "| Processes:                                                                  |\n",
            "|  GPU   GI   CI        PID   Type   Process name                  GPU Memory |\n",
            "|        ID   ID                                                   Usage      |\n",
            "|=============================================================================|\n",
            "+-----------------------------------------------------------------------------+\n"
          ]
        }
      ]
    },
    {
      "cell_type": "code",
      "metadata": {
        "colab": {
          "base_uri": "https://localhost:8080/",
          "height": 35
        },
        "id": "-VnT4b8f7EWE",
        "outputId": "362d3f13-493a-4e7e-b9ad-e052845f03da"
      },
      "source": [
        "keras.__version__"
      ],
      "execution_count": 4,
      "outputs": [
        {
          "output_type": "execute_result",
          "data": {
            "application/vnd.google.colaboratory.intrinsic+json": {
              "type": "string"
            },
            "text/plain": [
              "'2.7.0'"
            ]
          },
          "metadata": {},
          "execution_count": 4
        }
      ]
    },
    {
      "cell_type": "code",
      "metadata": {
        "id": "nBAEEnnyM55w"
      },
      "source": [
        "\"\"\"\n",
        "## Hyperparameters for pretraining\n",
        "Please feel free to change the hyperparameters and check your results. The best way to\n",
        "get an intuition about the architecture is to experiment with it. Our hyperparameters are\n",
        "heavily inspired by the design guidelines laid out by the authors in\n",
        "[the original paper](https://arxiv.org/abs/2111.06377).\n",
        "\"\"\"\n",
        "\n",
        "# DATA\n",
        "BUFFER_SIZE = 1024\n",
        "BATCH_SIZE = 256\n",
        "AUTO = tf.data.AUTOTUNE\n",
        "INPUT_SHAPE = (32, 32, 3)\n",
        "NUM_CLASSES = 10\n",
        "\n",
        "# OPTIMIZER\n",
        "LEARNING_RATE = 5e-3\n",
        "WEIGHT_DECAY = 1e-4\n",
        "\n",
        "# PRETRAINING\n",
        "EPOCHS = 10\n",
        "\n",
        "# AUGMENTATION\n",
        "IMAGE_SIZE = 48  # We will resize input images to this size.\n",
        "PATCH_SIZE = 6  # Size of the patches to be extracted from the input images.\n",
        "NUM_PATCHES = (IMAGE_SIZE // PATCH_SIZE) ** 2\n",
        "MASK_PROPORTION = 0.75  # We have found 75% masking to give us the best results.\n",
        "\n",
        "# ENCODER and DECODER\n",
        "LAYER_NORM_EPS = 1e-6\n",
        "ENC_PROJECTION_DIM = 128\n",
        "DEC_PROJECTION_DIM = 64\n",
        "ENC_NUM_HEADS = 4\n",
        "ENC_LAYERS = 6\n",
        "DEC_NUM_HEADS = 4\n",
        "DEC_LAYERS = (\n",
        "    2  # The decoder is lightweight but should be reasonably deep for reconstruction.\n",
        ")\n",
        "ENC_TRANSFORMER_UNITS = [\n",
        "    ENC_PROJECTION_DIM * 2,\n",
        "    ENC_PROJECTION_DIM,\n",
        "]  # Size of the transformer layers.\n",
        "DEC_TRANSFORMER_UNITS = [\n",
        "    DEC_PROJECTION_DIM * 2,\n",
        "    DEC_PROJECTION_DIM,\n",
        "]"
      ],
      "execution_count": 5,
      "outputs": []
    },
    {
      "cell_type": "code",
      "metadata": {
        "colab": {
          "base_uri": "https://localhost:8080/"
        },
        "id": "cx1sDBhBN_JW",
        "outputId": "472eacbb-7c21-4d23-8bcd-1f6c625ffd3c"
      },
      "source": [
        "\"\"\"\n",
        "## Load and prepare the CIFAR-10 dataset\n",
        "\"\"\"\n",
        "\n",
        "(x_train, y_train), (x_test, y_test) = keras.datasets.cifar10.load_data()\n",
        "(x_train, y_train), (x_val, y_val) = (\n",
        "    (x_train[:40000], y_train[:40000]),\n",
        "    (x_train[40000:], y_train[40000:]),\n",
        ")\n",
        "print(f\"Training samples: {len(x_train)}\")\n",
        "print(f\"Validation samples: {len(x_val)}\")\n",
        "print(f\"Testing samples: {len(x_test)}\")\n",
        "\n",
        "train_ds = tf.data.Dataset.from_tensor_slices(x_train)\n",
        "train_ds = train_ds.shuffle(BUFFER_SIZE).batch(BATCH_SIZE).prefetch(AUTO)\n",
        "\n",
        "val_ds = tf.data.Dataset.from_tensor_slices(x_val)\n",
        "val_ds = val_ds.batch(BATCH_SIZE).prefetch(AUTO)\n",
        "\n",
        "test_ds = tf.data.Dataset.from_tensor_slices(x_test)\n",
        "test_ds = test_ds.batch(BATCH_SIZE).prefetch(AUTO)"
      ],
      "execution_count": 6,
      "outputs": [
        {
          "output_type": "stream",
          "name": "stdout",
          "text": [
            "Downloading data from https://www.cs.toronto.edu/~kriz/cifar-10-python.tar.gz\n",
            "170500096/170498071 [==============================] - 2s 0us/step\n",
            "170508288/170498071 [==============================] - 2s 0us/step\n",
            "Training samples: 40000\n",
            "Validation samples: 10000\n",
            "Testing samples: 10000\n"
          ]
        }
      ]
    },
    {
      "cell_type": "code",
      "metadata": {
        "id": "dF7QJ0JNOPkm"
      },
      "source": [
        "\"\"\"\n",
        "## Data augmentation\n",
        "In previous self-supervised pretraining methodologies\n",
        "([SimCLR](https://arxiv.org/abs/2002.05709) alike), we have noticed that the data\n",
        "augmentation pipeline plays an important role. On the other hand the authors of this\n",
        "paper point out that Masked Autoencoders **do not** rely on augmentations. They propose a\n",
        "simple augmentation pipeline of:\n",
        "- Resizing\n",
        "- Random cropping (fixed-sized or random sized)\n",
        "- Random horizontal flipping\n",
        "\"\"\"\n",
        "\n",
        "\n",
        "def get_train_augmentation_model():\n",
        "    model = keras.Sequential(\n",
        "        [\n",
        "            layers.Rescaling(1 / 255.0),\n",
        "            layers.Resizing(INPUT_SHAPE[0] + 20, INPUT_SHAPE[0] + 20),\n",
        "            layers.RandomCrop(IMAGE_SIZE, IMAGE_SIZE),\n",
        "            layers.RandomFlip(\"horizontal\"),\n",
        "        ],\n",
        "        name=\"train_data_augmentation\",\n",
        "    )\n",
        "    return model\n",
        "\n",
        "\n",
        "def get_test_augmentation_model():\n",
        "    model = keras.Sequential(\n",
        "        [layers.Rescaling(1 / 255.0), layers.Resizing(IMAGE_SIZE, IMAGE_SIZE),],\n",
        "        name=\"test_data_augmentation\",\n",
        "    )\n",
        "    return model\n"
      ],
      "execution_count": 7,
      "outputs": []
    },
    {
      "cell_type": "code",
      "metadata": {
        "id": "UZELn9bPOvFw"
      },
      "source": [
        "\"\"\"\n",
        "## A layer for extracting patches from images\n",
        "This layer takes images as input and divides them into patches. The layer also includes\n",
        "two utility method:\n",
        "- `show_patched_image` -- Takes a batch of images and its corresponding patches to plot a\n",
        "random pair of image and patches.\n",
        "- `reconstruct_from_patch` -- Takes a single instance of patches and stitches them\n",
        "together into the original image.\n",
        "\"\"\"\n",
        "\n",
        "\n",
        "class Patches(layers.Layer):\n",
        "    def __init__(self, patch_size=PATCH_SIZE, **kwargs):\n",
        "        super().__init__(**kwargs)\n",
        "        self.patch_size = patch_size\n",
        "\n",
        "        # Assuming the image has three channels each patch would be\n",
        "        # of size (patch_size, patch_size, 3).\n",
        "        self.resize = layers.Reshape((-1, patch_size * patch_size * 3))\n",
        "\n",
        "    def call(self, images):\n",
        "        # Create patches from the input images\n",
        "        patches = tf.image.extract_patches(\n",
        "            images=images,\n",
        "            sizes=[1, self.patch_size, self.patch_size, 1],\n",
        "            strides=[1, self.patch_size, self.patch_size, 1],\n",
        "            rates=[1, 1, 1, 1],\n",
        "            padding=\"VALID\",\n",
        "        )\n",
        "\n",
        "        # Reshape the patches to (batch, num_patches, patch_area) and return it.\n",
        "        patches = self.resize(patches)\n",
        "        return patches\n",
        "\n",
        "    def show_patched_image(self, images, patches):\n",
        "        # This is a utility function which accepts a batch of images and its\n",
        "        # corresponding patches and help visualize one image and its patches\n",
        "        # side by side.\n",
        "        idx = np.random.choice(patches.shape[0])\n",
        "        print(f\"Index selected: {idx}.\")\n",
        "\n",
        "        plt.figure(figsize=(4, 4))\n",
        "        plt.imshow(keras.utils.array_to_img(images[idx]))\n",
        "        plt.axis(\"off\")\n",
        "        plt.show()\n",
        "\n",
        "        n = int(np.sqrt(patches.shape[1]))\n",
        "        plt.figure(figsize=(4, 4))\n",
        "        for i, patch in enumerate(patches[idx]):\n",
        "            ax = plt.subplot(n, n, i + 1)\n",
        "            patch_img = tf.reshape(patch, (self.patch_size, self.patch_size, 3))\n",
        "            plt.imshow(keras.utils.img_to_array(patch_img))\n",
        "            plt.axis(\"off\")\n",
        "        plt.show()\n",
        "\n",
        "        # Return the index chosen to validate it outside the method.\n",
        "        return idx\n",
        "\n",
        "    # taken from https://stackoverflow.com/a/58082878/10319735\n",
        "    def reconstruct_from_patch(self, patch):\n",
        "        # This utility function takes patches from a *single* image and\n",
        "        # reconstructs it back into the image. This is useful for the train\n",
        "        # monitor callback.\n",
        "        num_patches = patch.shape[0]\n",
        "        n = int(np.sqrt(num_patches))\n",
        "        patch = tf.reshape(patch, (num_patches, self.patch_size, self.patch_size, 3))\n",
        "        rows = tf.split(patch, n, axis=0)\n",
        "        rows = [tf.concat(tf.unstack(x), axis=1) for x in rows]\n",
        "        reconstructed = tf.concat(rows, axis=0)\n",
        "        return reconstructed"
      ],
      "execution_count": 8,
      "outputs": []
    },
    {
      "cell_type": "code",
      "metadata": {
        "colab": {
          "base_uri": "https://localhost:8080/",
          "height": 728
        },
        "id": "Z3it2nM4PW8C",
        "outputId": "d50659ad-314b-4ddb-d106-1fdae282ffbc"
      },
      "source": [
        "\"\"\"\n",
        "Let's visualize the image patches.\n",
        "\"\"\"\n",
        "\n",
        "# Get a batch of images.\n",
        "image_batch = next(iter(train_ds))\n",
        "\n",
        "# Augment the images.\n",
        "augmentation_model = get_train_augmentation_model()\n",
        "augmented_images = augmentation_model(image_batch)\n",
        "\n",
        "# Define the patch layer.\n",
        "patch_layer = Patches()\n",
        "\n",
        "# Get the patches from the batched images.\n",
        "patches = patch_layer(images=augmented_images)\n",
        "\n",
        "# Now pass the images and the corresponding patches\n",
        "# to the `show_patched_image` method.\n",
        "random_index = patch_layer.show_patched_image(images=augmented_images, patches=patches)\n",
        "\n",
        "# Chose the same chose image and try reconstructing the patches\n",
        "# into the original image.\n",
        "image = patch_layer.reconstruct_from_patch(patches[random_index])\n",
        "plt.imshow(image)\n",
        "plt.axis(\"off\")\n",
        "plt.show()"
      ],
      "execution_count": 9,
      "outputs": [
        {
          "output_type": "stream",
          "name": "stdout",
          "text": [
            "Index selected: 102.\n"
          ]
        },
        {
          "output_type": "display_data",
          "data": {
            "image/png": "[encoded data removed]",
            "text/plain": [
              "<Figure size 288x288 with 1 Axes>"
            ]
          },
          "metadata": {
            "needs_background": "light"
          }
        },
        {
          "output_type": "display_data",
          "data": {
            "image/png": "[encoded data removed]",
            "text/plain": [
              "<Figure size 288x288 with 64 Axes>"
            ]
          },
          "metadata": {
            "needs_background": "light"
          }
        },
        {
          "output_type": "display_data",
          "data": {
            "image/png": "[encoded data removed]",
            "text/plain": [
              "<Figure size 432x288 with 1 Axes>"
            ]
          },
          "metadata": {
            "needs_background": "light"
          }
        }
      ]
    },
    {
      "cell_type": "code",
      "metadata": {
        "id": "4tYETLBkPmAY"
      },
      "source": [
        "\"\"\"\n",
        "## Patch encoding with masking\n",
        "Quoting the paper\n",
        "> Following ViT, we divide an image into regular non-overlapping patches. Then we sample\n",
        "a subset of patches and mask (i.e., remove) the remaining ones. Our sampling strategy is\n",
        "straightforward: we sample random patches without replacement, following a uniform\n",
        "distribution. We simply refer to this as “random sampling”.\n",
        "This layer includes masking and encoding the patches.\n",
        "The utility methods of the layer are:\n",
        "- `get_random_indices` -- Provides the mask and unmask indices.\n",
        "- `generate_masked_image` -- Takes patches and unmask indices, results in a random masked\n",
        "image. This is an essential utility method for our training monitor callback (defined\n",
        "later).\n",
        "\"\"\"\n",
        "\n",
        "\n",
        "class PatchEncoder(layers.Layer):\n",
        "    def __init__(\n",
        "        self,\n",
        "        patch_size=PATCH_SIZE,\n",
        "        projection_dim=ENC_PROJECTION_DIM,\n",
        "        mask_proportion=MASK_PROPORTION,\n",
        "        downstream=False,\n",
        "        **kwargs,\n",
        "    ):\n",
        "        super().__init__(**kwargs)\n",
        "        self.patch_size = patch_size\n",
        "        self.projection_dim = projection_dim\n",
        "        self.mask_proportion = mask_proportion\n",
        "        self.downstream = downstream\n",
        "\n",
        "        # This is a trainable mask token initialized randomly from a normal\n",
        "        # distribution.\n",
        "        self.mask_token = tf.Variable(\n",
        "            tf.random.normal([1, patch_size * patch_size * 3]), trainable=True\n",
        "        )\n",
        "\n",
        "    def build(self, input_shape):\n",
        "        (_, self.num_patches, self.patch_area) = input_shape\n",
        "\n",
        "        # Create the projection layer for the patches.\n",
        "        self.projection = layers.Dense(units=self.projection_dim)\n",
        "\n",
        "        # Create the positional embedding layer.\n",
        "        self.position_embedding = layers.Embedding(\n",
        "            input_dim=self.num_patches, output_dim=self.projection_dim\n",
        "        )\n",
        "\n",
        "        # Number of patches that will be masked.\n",
        "        self.num_mask = int(self.mask_proportion * self.num_patches)\n",
        "\n",
        "    def call(self, patches):\n",
        "        # Get the positional embeddings.\n",
        "        batch_size = tf.shape(patches)[0]\n",
        "        positions = tf.range(start=0, limit=self.num_patches, delta=1)\n",
        "        pos_embeddings = self.position_embedding(positions[tf.newaxis, ...])\n",
        "        pos_embeddings = tf.tile(\n",
        "            pos_embeddings, [batch_size, 1, 1]\n",
        "        )  # (B, num_patches, projection_dim)\n",
        "\n",
        "        # Embed the patches.\n",
        "        patch_embeddings = (\n",
        "            self.projection(patches) + pos_embeddings\n",
        "        )  # (B, num_patches, projection_dim)\n",
        "\n",
        "        if self.downstream:\n",
        "            return patch_embeddings\n",
        "        else:\n",
        "            mask_indices, unmask_indices = self.get_random_indices(batch_size)\n",
        "            # The encoder input is the unmasked patch embeddings. Here we gather\n",
        "            # all the patches that should be unmasked.\n",
        "            unmasked_embeddings = tf.gather(\n",
        "                patch_embeddings, unmask_indices, axis=1, batch_dims=1\n",
        "            )  # (B, unmask_numbers, projection_dim)\n",
        "\n",
        "            # Get the unmasked and masked position embeddings. We will need them\n",
        "            # for the decoder.\n",
        "            unmasked_positions = tf.gather(\n",
        "                pos_embeddings, unmask_indices, axis=1, batch_dims=1\n",
        "            )  # (B, unmask_numbers, projection_dim)\n",
        "            masked_positions = tf.gather(\n",
        "                pos_embeddings, mask_indices, axis=1, batch_dims=1\n",
        "            )  # (B, mask_numbers, projection_dim)\n",
        "\n",
        "            # Repeat the mask token number of mask times.\n",
        "            # Mask tokens replace the masks of the image.\n",
        "            mask_tokens = tf.repeat(self.mask_token, repeats=self.num_mask, axis=0)\n",
        "            mask_tokens = tf.repeat(\n",
        "                mask_tokens[tf.newaxis, ...], repeats=batch_size, axis=0\n",
        "            )\n",
        "\n",
        "            # Get the masked embeddings for the tokens.\n",
        "            masked_embeddings = self.projection(mask_tokens) + masked_positions\n",
        "            return (\n",
        "                unmasked_embeddings,  # Input to the encoder.\n",
        "                masked_embeddings,  # First part of input to the decoder.\n",
        "                unmasked_positions,  # Added to the encoder outputs.\n",
        "                mask_indices,  # The indices that were masked.\n",
        "                unmask_indices,  # The indices that were unmaksed.\n",
        "            )\n",
        "\n",
        "    def get_random_indices(self, batch_size):\n",
        "        # Create random indices from a uniform distribution and then split\n",
        "        # it into mask and unmask indices.\n",
        "        rand_indices = tf.argsort(\n",
        "            tf.random.uniform(shape=(batch_size, self.num_patches)), axis=-1\n",
        "        )\n",
        "        mask_indices = rand_indices[:, : self.num_mask]\n",
        "        unmask_indices = rand_indices[:, self.num_mask :]\n",
        "        return mask_indices, unmask_indices\n",
        "\n",
        "    def generate_masked_image(self, patches, unmask_indices):\n",
        "        # Choose a random patch and it corresponding unmask index.\n",
        "        idx = np.random.choice(patches.shape[0])\n",
        "        patch = patches[idx]\n",
        "        unmask_index = unmask_indices[idx]\n",
        "\n",
        "        # Build a numpy array of same shape as patch.\n",
        "        new_patch = np.zeros_like(patch)\n",
        "\n",
        "        # Iterate of the new_patch and plug the unmasked patches.\n",
        "        count = 0\n",
        "        for i in range(unmask_index.shape[0]):\n",
        "            new_patch[unmask_index[i]] = patch[unmask_index[i]]\n",
        "        return new_patch, idx\n"
      ],
      "execution_count": 10,
      "outputs": []
    },
    {
      "cell_type": "code",
      "metadata": {
        "colab": {
          "base_uri": "https://localhost:8080/",
          "height": 301
        },
        "id": "Q6UIoYHtPqeW",
        "outputId": "7974495d-0bf4-435d-ca77-d6c405f11107"
      },
      "source": [
        "\"\"\"\n",
        "Let's see the masking process in action on a sample image.\n",
        "\"\"\"\n",
        "\n",
        "# Create the patch encoder layer.\n",
        "patch_encoder = PatchEncoder()\n",
        "\n",
        "# Get the embeddings and positions.\n",
        "(\n",
        "    unmasked_embeddings,\n",
        "    masked_embeddings,\n",
        "    unmasked_positions,\n",
        "    mask_indices,\n",
        "    unmask_indices,\n",
        ") = patch_encoder(patches=patches)\n",
        "\n",
        "\n",
        "# Show a maksed patch image.\n",
        "new_patch, random_index = patch_encoder.generate_masked_image(patches, unmask_indices)\n",
        "\n",
        "plt.figure(figsize=(10, 10))\n",
        "plt.subplot(1, 2, 1)\n",
        "img = patch_layer.reconstruct_from_patch(new_patch)\n",
        "plt.imshow(keras.utils.array_to_img(img))\n",
        "plt.axis(\"off\")\n",
        "plt.title(\"Masked\")\n",
        "plt.subplot(1, 2, 2)\n",
        "img = augmented_images[random_index]\n",
        "plt.imshow(keras.utils.array_to_img(img))\n",
        "plt.axis(\"off\")\n",
        "plt.title(\"Original\")\n",
        "plt.show()\n"
      ],
      "execution_count": 11,
      "outputs": [
        {
          "output_type": "display_data",
          "data": {
            "image/png": "[encoded data removed]",
            "text/plain": [
              "<Figure size 720x720 with 2 Axes>"
            ]
          },
          "metadata": {
            "needs_background": "light"
          }
        }
      ]
    },
    {
      "cell_type": "code",
      "metadata": {
        "id": "NpZVOlC6PtYE"
      },
      "source": [
        "\"\"\"\n",
        "## MLP\n",
        "This serves as the fully connected feed forward network of the transformer architecture.\n",
        "\"\"\"\n",
        "\n",
        "\n",
        "def mlp(x, dropout_rate, hidden_units):\n",
        "    for units in hidden_units:\n",
        "        x = layers.Dense(units, activation=tf.nn.gelu)(x)\n",
        "        x = layers.Dropout(dropout_rate)(x)\n",
        "    return x\n"
      ],
      "execution_count": 12,
      "outputs": []
    },
    {
      "cell_type": "code",
      "metadata": {
        "id": "9oH9bD6_P_Md"
      },
      "source": [
        "\"\"\"\n",
        "## MAE encoder\n",
        "The MAE encoder is ViT. The only point to note here is that the encoder outputs a layer\n",
        "normalized output.\n",
        "\"\"\"\n",
        "\n",
        "\n",
        "def create_encoder(num_heads=ENC_NUM_HEADS, num_layers=ENC_LAYERS):\n",
        "    inputs = layers.Input((None, ENC_PROJECTION_DIM))\n",
        "    x = inputs\n",
        "\n",
        "    for _ in range(num_layers):\n",
        "        # Layer normalization 1.\n",
        "        x1 = layers.LayerNormalization(epsilon=LAYER_NORM_EPS)(x)\n",
        "\n",
        "        # Create a multi-head attention layer.\n",
        "        attention_output = layers.MultiHeadAttention(\n",
        "            num_heads=num_heads, key_dim=ENC_PROJECTION_DIM, dropout=0.1\n",
        "        )(x1, x1)\n",
        "\n",
        "        # Skip connection 1.\n",
        "        x2 = layers.Add()([attention_output, x])\n",
        "\n",
        "        # Layer normalization 2.\n",
        "        x3 = layers.LayerNormalization(epsilon=LAYER_NORM_EPS)(x2)\n",
        "\n",
        "        # MLP.\n",
        "        x3 = mlp(x3, hidden_units=ENC_TRANSFORMER_UNITS, dropout_rate=0.1)\n",
        "\n",
        "        # Skip connection 2.\n",
        "        x = layers.Add()([x3, x2])\n",
        "\n",
        "    outputs = layers.LayerNormalization(epsilon=LAYER_NORM_EPS)(x)\n",
        "    return keras.Model(inputs, outputs, name=\"mae_encoder\")\n"
      ],
      "execution_count": 13,
      "outputs": []
    },
    {
      "cell_type": "code",
      "metadata": {
        "id": "arVX1WIzQDRl"
      },
      "source": [
        "\"\"\"\n",
        "## MAE decoder\n",
        "The authors point out that they use an **asymmetric** autoencoder model. They use a\n",
        "lightweight decoder that takes \"<10% computation per token vs. the encoder\". We are not\n",
        "specific with the \"<10% computation\" in our implementation but have used a smaller\n",
        "decoder (both in terms of depth and projection dimensions).\n",
        "\"\"\"\n",
        "\n",
        "\n",
        "def create_decoder(\n",
        "    num_layers=DEC_LAYERS, num_heads=DEC_NUM_HEADS, image_size=IMAGE_SIZE\n",
        "):\n",
        "    inputs = layers.Input((NUM_PATCHES, ENC_PROJECTION_DIM))\n",
        "    x = layers.Dense(DEC_PROJECTION_DIM)(inputs)\n",
        "\n",
        "    for _ in range(num_layers):\n",
        "        # Layer normalization 1.\n",
        "        x1 = layers.LayerNormalization(epsilon=LAYER_NORM_EPS)(x)\n",
        "\n",
        "        # Create a multi-head attention layer.\n",
        "        attention_output = layers.MultiHeadAttention(\n",
        "            num_heads=num_heads, key_dim=DEC_PROJECTION_DIM, dropout=0.1\n",
        "        )(x1, x1)\n",
        "\n",
        "        # Skip connection 1.\n",
        "        x2 = layers.Add()([attention_output, x])\n",
        "\n",
        "        # Layer normalization 2.\n",
        "        x3 = layers.LayerNormalization(epsilon=LAYER_NORM_EPS)(x2)\n",
        "\n",
        "        # MLP.\n",
        "        x3 = mlp(x3, hidden_units=DEC_TRANSFORMER_UNITS, dropout_rate=0.1)\n",
        "\n",
        "        # Skip connection 2.\n",
        "        x = layers.Add()([x3, x2])\n",
        "\n",
        "    x = layers.LayerNormalization(epsilon=LAYER_NORM_EPS)(x)\n",
        "    x = layers.Flatten()(x)\n",
        "    pre_final = layers.Dense(units=image_size * image_size * 3, activation=\"sigmoid\")(x)\n",
        "    outputs = layers.Reshape((image_size, image_size, 3))(pre_final)\n",
        "\n",
        "    return keras.Model(inputs, outputs, name=\"mae_decoder\")"
      ],
      "execution_count": 14,
      "outputs": []
    },
    {
      "cell_type": "code",
      "metadata": {
        "id": "K8_dwlreSVjW"
      },
      "source": [
        "\"\"\"\n",
        "## MAE trainer\n",
        "This is the trainer module. We wrap the encoder and decoder inside of a `tf.keras.Model`\n",
        "subclass. This allows us to customize what happens in the `model.fit()` loop.\n",
        "\"\"\"\n",
        "\n",
        "\n",
        "class MaskedAutoencoder(keras.Model):\n",
        "    def __init__(\n",
        "        self,\n",
        "        train_augmentation_model,\n",
        "        test_augmentation_model,\n",
        "        patch_layer,\n",
        "        patch_encoder,\n",
        "        encoder,\n",
        "        decoder,\n",
        "        **kwargs,\n",
        "    ):\n",
        "        super().__init__(**kwargs)\n",
        "        self.train_augmentation_model = train_augmentation_model\n",
        "        self.test_augmentation_model = test_augmentation_model\n",
        "        self.patch_layer = patch_layer\n",
        "        self.patch_encoder = patch_encoder\n",
        "        self.encoder = encoder\n",
        "        self.decoder = decoder\n",
        "\n",
        "    def calculate_loss(self, images, test=False):\n",
        "        # Augment the input images.\n",
        "        if test:\n",
        "            augmented_images = self.test_augmentation_model(images)\n",
        "        else:\n",
        "            augmented_images = self.train_augmentation_model(images)\n",
        "\n",
        "        # Patch the augmented images.\n",
        "        patches = self.patch_layer(augmented_images)\n",
        "\n",
        "        # Encode the patches.\n",
        "        (\n",
        "            unmasked_embeddings,\n",
        "            masked_embeddings,\n",
        "            unmasked_positions,\n",
        "            mask_indices,\n",
        "            unmask_indices,\n",
        "        ) = self.patch_encoder(patches)\n",
        "\n",
        "        # Pass the unmaksed patche to the encoder.\n",
        "        encoder_outputs = self.encoder(unmasked_embeddings)\n",
        "\n",
        "        # Create the decoder inputs.\n",
        "        encoder_outputs = encoder_outputs + unmasked_positions\n",
        "        decoder_inputs = tf.concat([encoder_outputs, masked_embeddings], axis=1)\n",
        "\n",
        "        # Decode the inputs.\n",
        "        decoder_outputs = self.decoder(decoder_inputs)\n",
        "        decoder_patches = self.patch_layer(decoder_outputs)\n",
        "\n",
        "        loss_patch = tf.gather(patches, mask_indices, axis=1, batch_dims=1)\n",
        "        loss_output = tf.gather(decoder_patches, mask_indices, axis=1, batch_dims=1)\n",
        "\n",
        "        # Compute the total loss.\n",
        "        total_loss = self.compiled_loss(loss_patch, loss_output)\n",
        "\n",
        "        return total_loss, loss_patch, loss_output\n",
        "\n",
        "    def train_step(self, images):\n",
        "        with tf.GradientTape() as tape:\n",
        "            total_loss, loss_patch, loss_output = self.calculate_loss(images)\n",
        "\n",
        "        # Apply gradients.\n",
        "        train_vars = [\n",
        "            self.train_augmentation_model.trainable_variables,\n",
        "            self.patch_layer.trainable_variables,\n",
        "            self.patch_encoder.trainable_variables,\n",
        "            self.encoder.trainable_variables,\n",
        "            self.decoder.trainable_variables,\n",
        "        ]\n",
        "        grads = tape.gradient(total_loss, train_vars)\n",
        "        tv_list = []\n",
        "        for (grad, var) in zip(grads, train_vars):\n",
        "            for g, v in zip(grad, var):\n",
        "                tv_list.append((g, v))\n",
        "        self.optimizer.apply_gradients(tv_list)\n",
        "\n",
        "        # Report progress.\n",
        "        self.compiled_metrics.update_state(loss_patch, loss_output)\n",
        "        return {m.name: m.result() for m in self.metrics}\n",
        "\n",
        "    def test_step(self, images):\n",
        "        total_loss, loss_patch, loss_output = self.calculate_loss(images, test=True)\n",
        "\n",
        "        # Update the trackers.\n",
        "        self.compiled_metrics.update_state(loss_patch, loss_output)\n",
        "        return {m.name: m.result() for m in self.metrics}\n"
      ],
      "execution_count": 15,
      "outputs": []
    },
    {
      "cell_type": "code",
      "metadata": {
        "id": "acTqqCkVSZqN"
      },
      "source": [
        "\"\"\"\n",
        "## Model initialization\n",
        "\"\"\"\n",
        "\n",
        "train_augmentation_model = get_train_augmentation_model()\n",
        "test_augmentation_model = get_test_augmentation_model()\n",
        "patch_layer = Patches()\n",
        "patch_encoder = PatchEncoder()\n",
        "encoder = create_encoder()\n",
        "decoder = create_decoder()\n",
        "\n",
        "mae_model = MaskedAutoencoder(\n",
        "    train_augmentation_model=train_augmentation_model,\n",
        "    test_augmentation_model=test_augmentation_model,\n",
        "    patch_layer=patch_layer,\n",
        "    patch_encoder=patch_encoder,\n",
        "    encoder=encoder,\n",
        "    decoder=decoder,\n",
        ")"
      ],
      "execution_count": 16,
      "outputs": []
    },
    {
      "cell_type": "code",
      "metadata": {
        "id": "vWfNpI2qTDza"
      },
      "source": [
        "\"\"\"\n",
        "## Training callbacks\n",
        "\"\"\"\n",
        "\n",
        "\"\"\"\n",
        "### Visualization callback\n",
        "\"\"\"\n",
        "\n",
        "# Taking a batch of test inputs to measure model's progress.\n",
        "test_images = next(iter(test_ds))\n",
        "\n",
        "\n",
        "class TrainMonitor(keras.callbacks.Callback):\n",
        "    def __init__(self, epoch_interval=None):\n",
        "        self.epoch_interval = epoch_interval\n",
        "\n",
        "    def on_epoch_end(self, epoch, logs=None):\n",
        "        if self.epoch_interval and epoch % self.epoch_interval == 0:\n",
        "            test_augmented_images = self.model.test_augmentation_model(test_images)\n",
        "            test_patches = self.model.patch_layer(test_augmented_images)\n",
        "            (\n",
        "                test_unmasked_embeddings,\n",
        "                test_masked_embeddings,\n",
        "                test_unmasked_positions,\n",
        "                test_mask_indices,\n",
        "                test_unmask_indices,\n",
        "            ) = self.model.patch_encoder(test_patches)\n",
        "            test_encoder_outputs = self.model.encoder(test_unmasked_embeddings)\n",
        "            test_encoder_outputs = test_encoder_outputs + test_unmasked_positions\n",
        "            test_decoder_inputs = tf.concat(\n",
        "                [test_encoder_outputs, test_masked_embeddings], axis=1\n",
        "            )\n",
        "            test_decoder_outputs = self.model.decoder(test_decoder_inputs)\n",
        "\n",
        "            # Show a maksed patch image.\n",
        "            test_masked_patch, idx = self.model.patch_encoder.generate_masked_image(\n",
        "                test_patches, test_unmask_indices\n",
        "            )\n",
        "            print(f\"\\nIdx chosen: {idx}\")\n",
        "            original_image = test_augmented_images[idx]\n",
        "            masked_image = self.model.patch_layer.reconstruct_from_patch(\n",
        "                test_masked_patch\n",
        "            )\n",
        "            reconstructed_image = test_decoder_outputs[idx]\n",
        "\n",
        "            fig, ax = plt.subplots(nrows=1, ncols=3, figsize=(15, 5))\n",
        "            ax[0].imshow(original_image)\n",
        "            ax[0].set_title(f\"Original: {epoch:03d}\")\n",
        "\n",
        "            ax[1].imshow(masked_image)\n",
        "            ax[1].set_title(f\"Masked: {epoch:03d}\")\n",
        "\n",
        "            ax[2].imshow(reconstructed_image)\n",
        "            ax[2].set_title(f\"Resonstructed: {epoch:03d}\")\n",
        "\n",
        "            plt.show()\n",
        "            plt.close()\n",
        "\n"
      ],
      "execution_count": 17,
      "outputs": []
    },
    {
      "cell_type": "code",
      "metadata": {
        "colab": {
          "base_uri": "https://localhost:8080/",
          "height": 283
        },
        "id": "0xBujba1TKhu",
        "outputId": "73f432fc-2811-43b0-bc31-581654bf0c0f"
      },
      "source": [
        "\"\"\"\n",
        "### Learning rate scheduler\n",
        "\"\"\"\n",
        "\n",
        "# Some code is taken from:\n",
        "# https://www.kaggle.com/ashusma/training-rfcx-tensorflow-tpu-effnet-b2.\n",
        "\n",
        "\n",
        "class WarmUpCosine(keras.optimizers.schedules.LearningRateSchedule):\n",
        "    def __init__(\n",
        "        self, learning_rate_base, total_steps, warmup_learning_rate, warmup_steps\n",
        "    ):\n",
        "        super(WarmUpCosine, self).__init__()\n",
        "\n",
        "        self.learning_rate_base = learning_rate_base\n",
        "        self.total_steps = total_steps\n",
        "        self.warmup_learning_rate = warmup_learning_rate\n",
        "        self.warmup_steps = warmup_steps\n",
        "        self.pi = tf.constant(np.pi)\n",
        "\n",
        "    def __call__(self, step):\n",
        "        if self.total_steps < self.warmup_steps:\n",
        "            raise ValueError(\"Total_steps must be larger or equal to warmup_steps.\")\n",
        "\n",
        "        cos_annealed_lr = tf.cos(\n",
        "            self.pi\n",
        "            * (tf.cast(step, tf.float32) - self.warmup_steps)\n",
        "            / float(self.total_steps - self.warmup_steps)\n",
        "        )\n",
        "        learning_rate = 0.5 * self.learning_rate_base * (1 + cos_annealed_lr)\n",
        "\n",
        "        if self.warmup_steps > 0:\n",
        "            if self.learning_rate_base < self.warmup_learning_rate:\n",
        "                raise ValueError(\n",
        "                    \"Learning_rate_base must be larger or equal to \"\n",
        "                    \"warmup_learning_rate.\"\n",
        "                )\n",
        "            slope = (\n",
        "                self.learning_rate_base - self.warmup_learning_rate\n",
        "            ) / self.warmup_steps\n",
        "            warmup_rate = slope * tf.cast(step, tf.float32) + self.warmup_learning_rate\n",
        "            learning_rate = tf.where(\n",
        "                step < self.warmup_steps, warmup_rate, learning_rate\n",
        "            )\n",
        "        return tf.where(\n",
        "            step > self.total_steps, 0.0, learning_rate, name=\"learning_rate\"\n",
        "        )\n",
        "\n",
        "\n",
        "total_steps = int((len(x_train) / BATCH_SIZE) * EPOCHS)\n",
        "warmup_epoch_percentage = 0.15\n",
        "warmup_steps = int(total_steps * warmup_epoch_percentage)\n",
        "scheduled_lrs = WarmUpCosine(\n",
        "    learning_rate_base=LEARNING_RATE,\n",
        "    total_steps=total_steps,\n",
        "    warmup_learning_rate=0.0,\n",
        "    warmup_steps=warmup_steps,\n",
        ")\n",
        "\n",
        "lrs = [scheduled_lrs(step) for step in range(total_steps)]\n",
        "plt.plot(lrs)\n",
        "plt.xlabel(\"Step\", fontsize=14)\n",
        "plt.ylabel(\"LR\", fontsize=14)\n",
        "plt.show()\n",
        "\n",
        "# Assemble the callbacks.\n",
        "train_callbacks = [TrainMonitor(epoch_interval=3)]"
      ],
      "execution_count": 18,
      "outputs": [
        {
          "output_type": "display_data",
          "data": {
            "image/png": "[encoded data removed]",
            "text/plain": [
              "<Figure size 432x288 with 1 Axes>"
            ]
          },
          "metadata": {
            "needs_background": "light"
          }
        }
      ]
    },
    {
      "cell_type": "code",
      "metadata": {
        "colab": {
          "base_uri": "https://localhost:8080/",
          "height": 1000
        },
        "id": "DsWrR2O7USxY",
        "outputId": "15894a85-b8f1-4c58-eff6-ba6371f09196"
      },
      "source": [
        "\"\"\"\n",
        "## Model compilation and training\n",
        "\"\"\"\n",
        "\n",
        "optimizer = tfa.optimizers.AdamW(learning_rate=scheduled_lrs, weight_decay=WEIGHT_DECAY)\n",
        "\n",
        "# Compile and pretrain the model.\n",
        "mae_model.compile(\n",
        "    optimizer=optimizer, loss=keras.losses.MeanSquaredError(), metrics=[\"mae\"]\n",
        ")\n",
        "history = mae_model.fit(\n",
        "    train_ds, epochs=EPOCHS, validation_data=val_ds, callbacks=train_callbacks,\n",
        ")\n",
        "\n",
        "# Measure its performance.\n",
        "loss, mae = mae_model.evaluate(test_ds)\n",
        "print(f\"Loss: {loss:.2f}\")\n",
        "print(f\"MAE: {mae:.2f}\")"
      ],
      "execution_count": 19,
      "outputs": [
        {
          "output_type": "stream",
          "name": "stdout",
          "text": [
            "Epoch 1/10\n",
            "157/157 [==============================] - ETA: 0s - loss: 0.0550 - mae: 0.1888\n",
            "Idx chosen: 92\n"
          ]
        },
        {
          "output_type": "display_data",
          "data": {
            "image/png": "[encoded data removed]",
            "text/plain": [
              "<Figure size 1080x360 with 3 Axes>"
            ]
          },
          "metadata": {
            "needs_background": "light"
          }
        },
        {
          "output_type": "stream",
          "name": "stdout",
          "text": [
            "\b\b\b\b\b\b\b\b\b\b\b\b\b\b\b\b\b\b\b\b\b\b\b\b\b\b\b\b\b\b\b\b\b\b\b\b\b\b\b\b\b\b\b\b\b\b\b\b\b\b\b\b\b\b\b\b\b\b\b\b\b\b\b\b\b\b\b\b\b\b\b\b\b\b\b\b\b\b\b\r157/157 [==============================] - 61s 297ms/step - loss: 0.0550 - mae: 0.1888 - val_loss: 0.0606 - val_mae: 0.2035\n",
            "Epoch 2/10\n",
            "157/157 [==============================] - 45s 284ms/step - loss: 0.0490 - mae: 0.1795 - val_loss: 0.0436 - val_mae: 0.1693\n",
            "Epoch 3/10\n",
            "157/157 [==============================] - 45s 284ms/step - loss: 0.0383 - mae: 0.1545 - val_loss: 0.0352 - val_mae: 0.1460\n",
            "Epoch 4/10\n",
            "157/157 [==============================] - ETA: 0s - loss: 0.0343 - mae: 0.1444\n",
            "Idx chosen: 14\n"
          ]
        },
        {
          "output_type": "display_data",
          "data": {
            "image/png": "[encoded data removed]",
            "text/plain": [
              "<Figure size 1080x360 with 3 Axes>"
            ]
          },
          "metadata": {
            "needs_background": "light"
          }
        },
        {
          "output_type": "stream",
          "name": "stdout",
          "text": [
            "\b\b\b\b\b\b\b\b\b\b\b\b\b\b\b\b\b\b\b\b\b\b\b\b\b\b\b\b\b\b\b\b\b\b\b\b\b\b\b\b\b\b\b\b\b\b\b\b\b\b\b\b\b\b\b\b\b\b\b\b\b\b\b\b\b\b\b\b\b\b\b\b\b\b\b\b\b\b\b\r157/157 [==============================] - 45s 288ms/step - loss: 0.0343 - mae: 0.1444 - val_loss: 0.0339 - val_mae: 0.1412\n",
            "Epoch 5/10\n",
            "157/157 [==============================] - 45s 285ms/step - loss: 0.0316 - mae: 0.1372 - val_loss: 0.0299 - val_mae: 0.1331\n",
            "Epoch 6/10\n",
            "157/157 [==============================] - 44s 282ms/step - loss: 0.0297 - mae: 0.1318 - val_loss: 0.0284 - val_mae: 0.1277\n",
            "Epoch 7/10\n",
            "157/157 [==============================] - ETA: 0s - loss: 0.0280 - mae: 0.1270\n",
            "Idx chosen: 106\n"
          ]
        },
        {
          "output_type": "display_data",
          "data": {
            "image/png": "[encoded data removed]",
            "text/plain": [
              "<Figure size 1080x360 with 3 Axes>"
            ]
          },
          "metadata": {
            "needs_background": "light"
          }
        },
        {
          "output_type": "stream",
          "name": "stdout",
          "text": [
            "\b\b\b\b\b\b\b\b\b\b\b\b\b\b\b\b\b\b\b\b\b\b\b\b\b\b\b\b\b\b\b\b\b\b\b\b\b\b\b\b\b\b\b\b\b\b\b\b\b\b\b\b\b\b\b\b\b\b\b\b\b\b\b\b\b\b\b\b\b\b\b\b\b\b\b\b\b\b\b\r157/157 [==============================] - 45s 286ms/step - loss: 0.0280 - mae: 0.1270 - val_loss: 0.0267 - val_mae: 0.1230\n",
            "Epoch 8/10\n",
            "157/157 [==============================] - 45s 286ms/step - loss: 0.0264 - mae: 0.1222 - val_loss: 0.0254 - val_mae: 0.1193\n",
            "Epoch 9/10\n",
            "157/157 [==============================] - 45s 285ms/step - loss: 0.0253 - mae: 0.1192 - val_loss: 0.0247 - val_mae: 0.1174\n",
            "Epoch 10/10\n",
            "157/157 [==============================] - ETA: 0s - loss: 0.0249 - mae: 0.1181\n",
            "Idx chosen: 71\n"
          ]
        },
        {
          "output_type": "display_data",
          "data": {
            "image/png": "[encoded data removed]",
            "text/plain": [
              "<Figure size 1080x360 with 3 Axes>"
            ]
          },
          "metadata": {
            "needs_background": "light"
          }
        },
        {
          "output_type": "stream",
          "name": "stdout",
          "text": [
            "157/157 [==============================] - 45s 289ms/step - loss: 0.0249 - mae: 0.1181 - val_loss: 0.0246 - val_mae: 0.1169\n",
            "40/40 [==============================] - 4s 98ms/step - loss: 0.0249 - mae: 0.1174\n",
            "Loss: 0.02\n",
            "MAE: 0.12\n"
          ]
        }
      ]
    },
    {
      "cell_type": "code",
      "metadata": {
        "id": "8yutLgIeUVQE",
        "colab": {
          "base_uri": "https://localhost:8080/"
        },
        "outputId": "96bccbd8-e886-4786-f117-64c9bf17f6af"
      },
      "source": [
        "\"\"\"\n",
        "## Evaluation with linear probing\n",
        "\"\"\"\n",
        "\n",
        "\"\"\"\n",
        "### Extract the encoder model along with other layers\n",
        "\"\"\"\n",
        "\n",
        "# Extract the augmentation layers.\n",
        "train_augmentation_model = mae_model.train_augmentation_model\n",
        "test_augmentation_model = mae_model.test_augmentation_model\n",
        "\n",
        "# Extract the patchers.\n",
        "patch_layer = mae_model.patch_layer\n",
        "patch_encoder = mae_model.patch_encoder\n",
        "patch_encoder.downstream = True  # Swtich the downstream flag to True.\n",
        "\n",
        "# Extract the encoder.\n",
        "encoder = mae_model.encoder\n",
        "\n",
        "# Pack as a model.\n",
        "downstream_model = keras.Sequential(\n",
        "    [\n",
        "        layers.Input((IMAGE_SIZE, IMAGE_SIZE, 3)),\n",
        "        patch_layer,\n",
        "        patch_encoder,\n",
        "        encoder,\n",
        "        layers.BatchNormalization(),  # Refer to A.1 (Linear probing).\n",
        "        layers.GlobalAveragePooling1D(),\n",
        "        layers.Dense(NUM_CLASSES, activation=\"softmax\"),\n",
        "    ],\n",
        "    name=\"linear_probe_model\",\n",
        ")\n",
        "\n",
        "# Only the final classification layer of the `downstream_model` should be trainable.\n",
        "for layer in downstream_model.layers[:-1]:\n",
        "    layer.trainable = False\n",
        "\n",
        "downstream_model.summary()"
      ],
      "execution_count": 20,
      "outputs": [
        {
          "output_type": "stream",
          "name": "stdout",
          "text": [
            "Model: \"linear_probe_model\"\n",
            "_________________________________________________________________\n",
            " Layer (type)                Output Shape              Param #   \n",
            "=================================================================\n",
            " patches_1 (Patches)         (None, 64, 108)           0         \n",
            "                                                                 \n",
            " patch_encoder_1 (PatchEncod  (None, 64, 128)          22252     \n",
            " er)                                                             \n",
            "                                                                 \n",
            " mae_encoder (Functional)    (None, None, 128)         1981696   \n",
            "                                                                 \n",
            " batch_normalization (BatchN  (None, 64, 128)          512       \n",
            " ormalization)                                                   \n",
            "                                                                 \n",
            " global_average_pooling1d (G  (None, 128)              0         \n",
            " lobalAveragePooling1D)                                          \n",
            "                                                                 \n",
            " dense_19 (Dense)            (None, 10)                1290      \n",
            "                                                                 \n",
            "=================================================================\n",
            "Total params: 2,005,750\n",
            "Trainable params: 1,290\n",
            "Non-trainable params: 2,004,460\n",
            "_________________________________________________________________\n"
          ]
        }
      ]
    },
    {
      "cell_type": "code",
      "metadata": {
        "id": "l7r8v2hfLmaD",
        "colab": {
          "base_uri": "https://localhost:8080/"
        },
        "outputId": "2607aca1-c076-4e84-c88b-42ff3fa1cf3f"
      },
      "source": [
        "\"\"\"\n",
        "We are using average pooling to extract learned representations from the MAE encoder.\n",
        "Another approach would be to use a learnable dummy token inside the encoder during\n",
        "pretraining (resembling the [CLS] token). Then we can extract representations from that\n",
        "token during the downstream tasks.\n",
        "\"\"\"\n",
        "\n",
        "\"\"\"\n",
        "### Prepare datasets for linear probing\n",
        "\"\"\"\n",
        "\n",
        "\n",
        "def prepare_data(images, labels, is_train=True):\n",
        "    if is_train:\n",
        "        augmentation_model = train_augmentation_model\n",
        "    else:\n",
        "        augmentation_model = test_augmentation_model\n",
        "\n",
        "    dataset = tf.data.Dataset.from_tensor_slices((images, labels))\n",
        "    if is_train:\n",
        "        dataset = dataset.shuffle(BUFFER_SIZE)\n",
        "\n",
        "    dataset = dataset.batch(BATCH_SIZE).map(\n",
        "        lambda x, y: (augmentation_model(x), y), num_parallel_calls=AUTO\n",
        "    )\n",
        "    return dataset.prefetch(AUTO)\n",
        "\n",
        "\n",
        "train_ds = prepare_data(x_train, y_train)\n",
        "val_ds = prepare_data(x_train, y_train, is_train=False)\n",
        "test_ds = prepare_data(x_test, y_test, is_train=False)\n",
        "\n",
        "\"\"\"\n",
        "### Perform linear probing\n",
        "\"\"\"\n",
        "\n",
        "linear_probe_epochs = 10\n",
        "linear_prob_lr = 0.1\n",
        "warm_epoch_percentage = 0.1\n",
        "steps = int((len(x_train) // BATCH_SIZE) * linear_probe_epochs)\n",
        "\n",
        "warmup_steps = int(steps * warm_epoch_percentage)\n",
        "scheduled_lrs = WarmUpCosine(\n",
        "    learning_rate_base=linear_prob_lr,\n",
        "    total_steps=steps,\n",
        "    warmup_learning_rate=0.0,\n",
        "    warmup_steps=warmup_steps,\n",
        ")\n",
        "\n",
        "optimizer = keras.optimizers.SGD(learning_rate=scheduled_lrs, momentum=0.9)\n",
        "downstream_model.compile(\n",
        "    optimizer=optimizer, loss=\"sparse_categorical_crossentropy\", metrics=[\"accuracy\"]\n",
        ")\n",
        "downstream_model.fit(train_ds, validation_data=val_ds, epochs=linear_probe_epochs)\n",
        "\n",
        "loss, accuracy = downstream_model.evaluate(test_ds)\n",
        "accuracy = round(accuracy * 100, 2)\n",
        "print(f\"Accuracy on the test set: {accuracy}%.\")"
      ],
      "execution_count": 21,
      "outputs": [
        {
          "output_type": "stream",
          "name": "stdout",
          "text": [
            "Epoch 1/10\n",
            "157/157 [==============================] - 54s 304ms/step - loss: 2.0100 - accuracy: 0.2880 - val_loss: 1.8331 - val_accuracy: 0.3285\n",
            "Epoch 2/10\n",
            "157/157 [==============================] - 47s 299ms/step - loss: 1.8535 - accuracy: 0.3336 - val_loss: 1.7982 - val_accuracy: 0.3574\n",
            "Epoch 3/10\n",
            "157/157 [==============================] - 47s 298ms/step - loss: 1.8242 - accuracy: 0.3466 - val_loss: 1.7832 - val_accuracy: 0.3556\n",
            "Epoch 4/10\n",
            "157/157 [==============================] - 47s 298ms/step - loss: 1.7981 - accuracy: 0.3545 - val_loss: 1.7547 - val_accuracy: 0.3634\n",
            "Epoch 5/10\n",
            "157/157 [==============================] - 47s 299ms/step - loss: 1.7641 - accuracy: 0.3688 - val_loss: 1.7448 - val_accuracy: 0.3772\n",
            "Epoch 6/10\n",
            "157/157 [==============================] - 47s 299ms/step - loss: 1.7452 - accuracy: 0.3766 - val_loss: 1.7129 - val_accuracy: 0.3877\n",
            "Epoch 7/10\n",
            "157/157 [==============================] - 47s 298ms/step - loss: 1.7268 - accuracy: 0.3813 - val_loss: 1.6913 - val_accuracy: 0.3980\n",
            "Epoch 8/10\n",
            "157/157 [==============================] - 47s 298ms/step - loss: 1.7154 - accuracy: 0.3879 - val_loss: 1.6910 - val_accuracy: 0.3997\n",
            "Epoch 9/10\n",
            "157/157 [==============================] - 47s 298ms/step - loss: 1.7033 - accuracy: 0.3939 - val_loss: 1.6817 - val_accuracy: 0.4059\n",
            "Epoch 10/10\n",
            "157/157 [==============================] - 47s 298ms/step - loss: 1.6969 - accuracy: 0.3969 - val_loss: 1.6800 - val_accuracy: 0.4040\n",
            "40/40 [==============================] - 6s 142ms/step - loss: 1.6746 - accuracy: 0.4081\n",
            "Accuracy on the test set: 40.81%.\n"
          ]
        }
      ]
    },
    {
      "cell_type": "code",
      "metadata": {
        "id": "sBqPKjJsUFNH"
      },
      "source": [
        "\"\"\"\n",
        "We believe that with a more sophisticated hyperparameter tuning process and a longer\n",
        "pretraining it is possible to improve this performance further. For comparison, we took\n",
        "the encoder architecture and\n",
        "[trained it from scratch](https://github.com/ariG23498/mae-scalable-vision-learners/blob/master/regular-classification.ipynb)\n",
        "in a fully supervised manner. This gave us ~76% test top-1 accuracy. The authors of\n",
        "MAE demonstrates strong performance on the ImageNet-1k dataset as well as\n",
        "other downstream tasks like object detection and semantic segmentation.\n",
        "\"\"\"\n",
        "\n",
        "\"\"\"\n",
        "## Final notes\n",
        "We refer the interested readers to other examples on self-supervised learning present on\n",
        "keras.io:\n",
        "* [SimCLR](https://keras.io/examples/vision/semisupervised_simclr/)\n",
        "* [NNCLR](https://keras.io/examples/vision/nnclr)\n",
        "* [SimSiam](https://keras.io/examples/vision/simsiam)\n",
        "This idea of using BERT flavored pretraining in computer vision was also explored in\n",
        "[Selfie](https://arxiv.org/abs/1906.02940), but it could not demonstrate strong results.\n",
        "Another concurrent work that explores the idea of masked image modeling is\n",
        "[SimMIM](https://arxiv.org/abs/2111.09886). Finally, as a fun fact, we, the authors of\n",
        "this example also explored the idea of [\"reconstruction as a pretext task\"](https://i.ibb.co/k5CpwDX/image.png)\n",
        "in 2020 but we could not prevent the network from representation collapse, and\n",
        "hence we did not get strong downstream performance.\n",
        "We would like to thank [Xinlei Chen](http://xinleic.xyz/)\n",
        "(one of the authors of MAE) for helpful discussions. We are grateful to\n",
        "[JarvisLabs](https://jarvislabs.ai/) and\n",
        "[Google Developers Experts](https://developers.google.com/programs/experts/)\n",
        "program for helping with GPU credits.\n",
        "\"\"\""
      ],
      "execution_count": null,
      "outputs": []
    }
  ]
}